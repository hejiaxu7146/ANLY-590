{
  "nbformat": 4,
  "nbformat_minor": 0,
  "metadata": {
    "colab": {
      "name": "Jiaxu_HW2.ipynb",
      "version": "0.3.2",
      "provenance": [],
      "collapsed_sections": []
    },
    "kernelspec": {
      "name": "python3",
      "display_name": "Python 3"
    }
  },
  "cells": [
    {
      "metadata": {
        "id": "PHppP3TKpLaM",
        "colab_type": "text"
      },
      "cell_type": "markdown",
      "source": [
        "## Jiaxu He\n",
        "## ANLY-590\n",
        "## HW2"
      ]
    },
    {
      "metadata": {
        "id": "TgSHhBMmd4Ge",
        "colab_type": "text"
      },
      "cell_type": "markdown",
      "source": [
        "## 1. Autoencoder"
      ]
    },
    {
      "metadata": {
        "id": "i7dqI5LlpILn",
        "colab_type": "code",
        "colab": {}
      },
      "cell_type": "code",
      "source": [
        "import numpy as np\n",
        "import matplotlib.pyplot as plt\n",
        "from keras.optimizers import RMSprop\n",
        "from keras.layers import Input, Dense, Conv2D, MaxPooling2D, UpSampling2D, Conv1D, MaxPooling1D\n",
        "from keras.layers import Dropout, Activation, Flatten, LSTM\n",
        "from keras.utils import np_utils\n",
        "from keras.models import Model, Sequential\n",
        "from keras import backend as K\n",
        "from keras.datasets import fashion_mnist\n",
        "from keras.preprocessing.image import ImageDataGenerator, array_to_img, img_to_array, load_img\n",
        "from keras.applications import VGG16\n",
        "import cv2\n",
        "from keras.preprocessing import sequence"
      ],
      "execution_count": 0,
      "outputs": []
    },
    {
      "metadata": {
        "id": "27rKwOeepU9T",
        "colab_type": "code",
        "colab": {
          "base_uri": "https://localhost:8080/",
          "height": 153
        },
        "outputId": "dd1aa9a9-21a8-46fb-cf6e-04b607ec4ebb"
      },
      "cell_type": "code",
      "source": [
        "(x_train, y_train), (x_test, y_test) = fashion_mnist.load_data()\n",
        "x_train = x_train.reshape(x_train.shape[0], 28, 28,1).astype('float32') / 255\n",
        "x_test = x_test.reshape(x_test.shape[0], 28, 28,1).astype('float32') / 255\n",
        "y_train = np_utils.to_categorical(y_train, 10)\n",
        "y_test = np_utils.to_categorical(y_test, 10)"
      ],
      "execution_count": 2,
      "outputs": [
        {
          "output_type": "stream",
          "text": [
            "Downloading data from http://fashion-mnist.s3-website.eu-central-1.amazonaws.com/train-labels-idx1-ubyte.gz\n",
            "32768/29515 [=================================] - 0s 3us/step\n",
            "Downloading data from http://fashion-mnist.s3-website.eu-central-1.amazonaws.com/train-images-idx3-ubyte.gz\n",
            "26427392/26421880 [==============================] - 3s 0us/step\n",
            "Downloading data from http://fashion-mnist.s3-website.eu-central-1.amazonaws.com/t10k-labels-idx1-ubyte.gz\n",
            "8192/5148 [===============================================] - 0s 0us/step\n",
            "Downloading data from http://fashion-mnist.s3-website.eu-central-1.amazonaws.com/t10k-images-idx3-ubyte.gz\n",
            "4423680/4422102 [==============================] - 1s 0us/step\n"
          ],
          "name": "stdout"
        }
      ]
    },
    {
      "metadata": {
        "id": "YlWttDhW3Rem",
        "colab_type": "code",
        "outputId": "97760216-9eba-4924-af35-baffc0cc43d5",
        "colab": {
          "base_uri": "https://localhost:8080/",
          "height": 391
        }
      },
      "cell_type": "code",
      "source": [
        "input_img = Input(shape=(28, 28, 1))  # adapt this if using `channels_first` image data format\n",
        "\n",
        "x = Conv2D(16, (3, 3), activation='relu', padding='same')(input_img)\n",
        "x = MaxPooling2D((2, 2), padding='same')(x)\n",
        "x = Conv2D(8, (3, 3), activation='relu', padding='same')(x)\n",
        "x = MaxPooling2D((2, 2), padding='same')(x)\n",
        "x = Conv2D(8, (3, 3), activation='relu', padding='same')(x)\n",
        "encoded = MaxPooling2D((2, 2), padding='same')(x)\n",
        "\n",
        "# at this point the representation is (4, 4, 8) i.e. 128-dimensional\n",
        "\n",
        "x = Conv2D(8, (3, 3), activation='relu', padding='same')(encoded)\n",
        "x = UpSampling2D((2, 2))(x)\n",
        "x = Conv2D(8, (3, 3), activation='relu', padding='same')(x)\n",
        "x = UpSampling2D((2, 2))(x)\n",
        "x = Conv2D(16, (3, 3), activation='relu')(x)\n",
        "x = UpSampling2D((2, 2))(x)\n",
        "decoded = Conv2D(1, (3, 3), activation='sigmoid', padding='same')(x)\n",
        "\n",
        "autoencoder = Model(input_img, decoded)\n",
        "autoencoder.compile(optimizer='adadelta', loss='binary_crossentropy')\n",
        "from keras.callbacks import TensorBoard\n",
        "\n",
        "autoencoder.fit(x_train, x_train,\n",
        "                epochs=10,\n",
        "                batch_size=128,\n",
        "                shuffle=True,\n",
        "                validation_data=(x_test, x_test),\n",
        "                callbacks=[TensorBoard(log_dir='/tmp/autoencoder')])"
      ],
      "execution_count": 4,
      "outputs": [
        {
          "output_type": "stream",
          "text": [
            "Train on 60000 samples, validate on 10000 samples\n",
            "Epoch 1/10\n",
            "60000/60000 [==============================] - 81s 1ms/step - loss: 0.3730 - val_loss: 0.3363\n",
            "Epoch 2/10\n",
            "60000/60000 [==============================] - 80s 1ms/step - loss: 0.3255 - val_loss: 0.3189\n",
            "Epoch 3/10\n",
            "60000/60000 [==============================] - 81s 1ms/step - loss: 0.3151 - val_loss: 0.3159\n",
            "Epoch 4/10\n",
            "60000/60000 [==============================] - 82s 1ms/step - loss: 0.3094 - val_loss: 0.3097\n",
            "Epoch 5/10\n",
            "60000/60000 [==============================] - 81s 1ms/step - loss: 0.3054 - val_loss: 0.3092\n",
            "Epoch 6/10\n",
            "60000/60000 [==============================] - 81s 1ms/step - loss: 0.3030 - val_loss: 0.3054\n",
            "Epoch 7/10\n",
            "60000/60000 [==============================] - 82s 1ms/step - loss: 0.3016 - val_loss: 0.3003\n",
            "Epoch 8/10\n",
            "60000/60000 [==============================] - 82s 1ms/step - loss: 0.2996 - val_loss: 0.3030\n",
            "Epoch 9/10\n",
            "60000/60000 [==============================] - 82s 1ms/step - loss: 0.2994 - val_loss: 0.3030\n",
            "Epoch 10/10\n",
            "60000/60000 [==============================] - 82s 1ms/step - loss: 0.2985 - val_loss: 0.2980\n"
          ],
          "name": "stdout"
        },
        {
          "output_type": "execute_result",
          "data": {
            "text/plain": [
              "<keras.callbacks.History at 0x7fbf447be438>"
            ]
          },
          "metadata": {
            "tags": []
          },
          "execution_count": 4
        }
      ]
    },
    {
      "metadata": {
        "id": "r1ZuYhDLdDFS",
        "colab_type": "code",
        "colab": {
          "base_uri": "https://localhost:8080/",
          "height": 244
        },
        "outputId": "0ec006c0-bd84-4836-b227-b1936e6fb097"
      },
      "cell_type": "code",
      "source": [
        "decoded_imgs = autoencoder.predict(x_test)\n",
        "\n",
        "n = 10\n",
        "plt.figure(figsize=(20, 4))\n",
        "for i in range(n):\n",
        "    # display original\n",
        "    ax = plt.subplot(2, n, i + 1)\n",
        "    plt.imshow(x_test[i].reshape(28, 28))\n",
        "    plt.gray()\n",
        "    ax.get_xaxis().set_visible(False)\n",
        "    ax.get_yaxis().set_visible(False)\n",
        "\n",
        "    # display reconstruction\n",
        "    ax = plt.subplot(2, n, i + 1 + n)\n",
        "    plt.imshow(decoded_imgs[i].reshape(28, 28))\n",
        "    plt.gray()\n",
        "    ax.get_xaxis().set_visible(False)\n",
        "    ax.get_yaxis().set_visible(False)\n",
        "plt.show()"
      ],
      "execution_count": 6,
      "outputs": [
        {
          "output_type": "display_data",
          "data": {
            "image/png": "[encoded data removed]",
            "text/plain": [
              "<matplotlib.figure.Figure at 0x7fbf4507fda0>"
            ]
          },
          "metadata": {
            "tags": []
          }
        }
      ]
    },
    {
      "metadata": {
        "id": "lAyvAXqOeCxt",
        "colab_type": "text"
      },
      "cell_type": "markdown",
      "source": [
        "## 2. Image Classifcation\n",
        "\n",
        "\n",
        "### 2.1 Deep CNN"
      ]
    },
    {
      "metadata": {
        "id": "i0CbB9DgeOHj",
        "colab_type": "code",
        "colab": {
          "base_uri": "https://localhost:8080/",
          "height": 442
        },
        "outputId": "02990b62-da0d-4654-aac7-eed198b60cf7"
      },
      "cell_type": "code",
      "source": [
        "# =============================\n",
        "#  Setting up the Architecture\n",
        "# ============================\n",
        "# Declaring sequential model\n",
        "model = Sequential()\n",
        "# CNN input layer: input_shape: (depth,width,height)\n",
        "# CNN convolution: number of filters, height and width of kernel\n",
        "model.add(Conv2D(filters = 32,kernel_size=(3, 3), \n",
        "                 activation='relu', strides=(1, 1), \n",
        "                 padding='valid',\n",
        "                 input_shape=(28,28,1)))\n",
        "# Notice here the the first entry output is none\n",
        "print(model.output_shape)\n",
        "\n",
        "# Next we add the remaining layers\n",
        "model.add(Conv2D(filters = 32,kernel_size=(3, 3), \n",
        "                 activation='relu', strides=(1, 1), \n",
        "                 padding='valid'))\n",
        "model.add(MaxPooling2D(pool_size=(2,2)))\n",
        "model.add(Dropout(0.25))\n",
        "\n",
        "# Setting up the fully connected lauer\n",
        "model.add(Flatten())\n",
        "model.add(Dense(64, activation='relu'))\n",
        "model.add(Dropout(0.5))\n",
        "model.add(Dense(10, activation='softmax'))\n",
        "print(model.summary())"
      ],
      "execution_count": 9,
      "outputs": [
        {
          "output_type": "stream",
          "text": [
            "(None, 26, 26, 32)\n",
            "_________________________________________________________________\n",
            "Layer (type)                 Output Shape              Param #   \n",
            "=================================================================\n",
            "conv2d_20 (Conv2D)           (None, 26, 26, 32)        320       \n",
            "_________________________________________________________________\n",
            "conv2d_21 (Conv2D)           (None, 24, 24, 32)        9248      \n",
            "_________________________________________________________________\n",
            "max_pooling2d_10 (MaxPooling (None, 12, 12, 32)        0         \n",
            "_________________________________________________________________\n",
            "dropout_4 (Dropout)          (None, 12, 12, 32)        0         \n",
            "_________________________________________________________________\n",
            "flatten_3 (Flatten)          (None, 4608)              0         \n",
            "_________________________________________________________________\n",
            "dense_5 (Dense)              (None, 64)                294976    \n",
            "_________________________________________________________________\n",
            "dropout_5 (Dropout)          (None, 64)                0         \n",
            "_________________________________________________________________\n",
            "dense_6 (Dense)              (None, 10)                650       \n",
            "=================================================================\n",
            "Total params: 305,194\n",
            "Trainable params: 305,194\n",
            "Non-trainable params: 0\n",
            "_________________________________________________________________\n",
            "None\n"
          ],
          "name": "stdout"
        }
      ]
    },
    {
      "metadata": {
        "id": "-aqv7uBQpWsl",
        "colab_type": "text"
      },
      "cell_type": "markdown",
      "source": [
        "#### The architectural choices that I've made are kernel size of (3, 3), strides of (1, 1), padding of \"valid\", and the network depth of 32 for the first 2D convolutional layer, then I added another convolutional layer with kernel size of (3, 3), strides of (1, 1), padding of \"valid\", and the network depth of 32. Next, added maxpooling layer and dropout with rate of 0.25. "
      ]
    },
    {
      "metadata": {
        "id": "oLh_DnPAulBV",
        "colab_type": "code",
        "colab": {
          "base_uri": "https://localhost:8080/",
          "height": 374
        },
        "outputId": "55d3eb37-6386-46ed-a3cb-d9563b27ee5b"
      },
      "cell_type": "code",
      "source": [
        "# =========================================\n",
        "# Multigpu support Function Make-Parallel\n",
        "# ========================================\n",
        "# MultiGPU hack: \n",
        "# https://github.com/rossumai/keras-multi-gpu/tree/master/keras_tf_multigpu\n",
        "\n",
        "# =====================\n",
        "#  Compiling the model\n",
        "# =====================\n",
        "model.compile(loss='categorical_crossentropy',\n",
        "              optimizer='adam',\n",
        "              metrics=['accuracy'])\n",
        "\n",
        "# ===================\n",
        "# Fitting the model\n",
        "# ===================\n",
        "model.fit(x_train, y_train,\n",
        "          epochs=10,\n",
        "          batch_size=128)\n"
      ],
      "execution_count": 15,
      "outputs": [
        {
          "output_type": "stream",
          "text": [
            "Epoch 1/10\n",
            "60000/60000 [==============================] - 102s 2ms/step - loss: 0.2194 - acc: 0.9194\n",
            "Epoch 2/10\n",
            "60000/60000 [==============================] - 102s 2ms/step - loss: 0.2083 - acc: 0.9227\n",
            "Epoch 3/10\n",
            "60000/60000 [==============================] - 101s 2ms/step - loss: 0.2039 - acc: 0.9251\n",
            "Epoch 4/10\n",
            "60000/60000 [==============================] - 100s 2ms/step - loss: 0.1975 - acc: 0.9258\n",
            "Epoch 5/10\n",
            "60000/60000 [==============================] - 101s 2ms/step - loss: 0.1950 - acc: 0.9275\n",
            "Epoch 6/10\n",
            "60000/60000 [==============================] - 101s 2ms/step - loss: 0.1916 - acc: 0.9273\n",
            "Epoch 7/10\n",
            "60000/60000 [==============================] - 102s 2ms/step - loss: 0.1861 - acc: 0.9289\n",
            "Epoch 8/10\n",
            "60000/60000 [==============================] - 102s 2ms/step - loss: 0.1789 - acc: 0.9322\n",
            "Epoch 9/10\n",
            "60000/60000 [==============================] - 101s 2ms/step - loss: 0.1781 - acc: 0.9324\n",
            "Epoch 10/10\n",
            "60000/60000 [==============================] - 101s 2ms/step - loss: 0.1764 - acc: 0.9331\n"
          ],
          "name": "stdout"
        },
        {
          "output_type": "execute_result",
          "data": {
            "text/plain": [
              "<keras.callbacks.History at 0x7fbf42d08f28>"
            ]
          },
          "metadata": {
            "tags": []
          },
          "execution_count": 15
        }
      ]
    },
    {
      "metadata": {
        "id": "oRmJ5Ju_3mGS",
        "colab_type": "code",
        "colab": {
          "base_uri": "https://localhost:8080/",
          "height": 51
        },
        "outputId": "37b93621-f71d-452d-93cd-96f8be49eabc"
      },
      "cell_type": "code",
      "source": [
        "# =====================\n",
        "#  Evaluating the model\n",
        "# =====================\n",
        "score = model.evaluate(x_test, y_test, verbose=1)\n",
        "print(score)"
      ],
      "execution_count": 16,
      "outputs": [
        {
          "output_type": "stream",
          "text": [
            "10000/10000 [==============================] - 5s 520us/step\n",
            "[0.2269569096058607, 0.9252]\n"
          ],
          "name": "stdout"
        }
      ]
    },
    {
      "metadata": {
        "id": "RzlyTfem9VjM",
        "colab_type": "text"
      },
      "cell_type": "markdown",
      "source": [
        "#### As the results showed above, the model has good performances on training set and test set. It has accuracy of 0.9331 on the training set and accuracy of 0.9252 on the test set."
      ]
    },
    {
      "metadata": {
        "id": "XquVXbSZ9uAJ",
        "colab_type": "text"
      },
      "cell_type": "markdown",
      "source": [
        "### 2.2 Transfer Learning"
      ]
    },
    {
      "metadata": {
        "id": "-HlAJgYf9yys",
        "colab_type": "code",
        "colab": {
          "base_uri": "https://localhost:8080/",
          "height": 340
        },
        "outputId": "567bfc38-3808-4b05-c0a4-e5cbc94dd75e"
      },
      "cell_type": "code",
      "source": [
        "(x_train, y_train), (x_test, y_test) = fashion_mnist.load_data()\n",
        "\n",
        "x_train = [cv2.cvtColor(cv2.resize(i, (32, 32)), cv2.COLOR_GRAY2BGR) for i in x_train]\n",
        "x_train = np.concatenate([arr[np.newaxis] for arr in x_train]).astype('float32')\n",
        "\n",
        "x_test = [cv2.cvtColor(cv2.resize(i, (32, 32)), cv2.COLOR_GRAY2BGR) for i in x_test]\n",
        "x_test = np.concatenate([arr[np.newaxis] for arr in x_test]).astype('float32')\n",
        "\n",
        "y_train = np_utils.to_categorical(y_train, 10)\n",
        "y_test = np_utils.to_categorical(y_test, 10)\n",
        "\n",
        "conv_base = VGG16(weights=\"imagenet\",include_top=False,input_shape=(32,32,3))\n",
        "\n",
        "model = Sequential()\n",
        "model.add(conv_base)\n",
        "model.add(Flatten())\n",
        "model.add(Dense(256, activation=\"relu\"))\n",
        "model.add(Dropout(0.25))\n",
        "model.add(Dense(10, activation=\"sigmoid\"))\n",
        "model.summary()"
      ],
      "execution_count": 19,
      "outputs": [
        {
          "output_type": "stream",
          "text": [
            "Downloading data from https://github.com/fchollet/deep-learning-models/releases/download/v0.1/vgg16_weights_tf_dim_ordering_tf_kernels_notop.h5\n",
            "58892288/58889256 [==============================] - 1s 0us/step\n",
            "_________________________________________________________________\n",
            "Layer (type)                 Output Shape              Param #   \n",
            "=================================================================\n",
            "vgg16 (Model)                (None, 1, 1, 512)         14714688  \n",
            "_________________________________________________________________\n",
            "flatten_4 (Flatten)          (None, 512)               0         \n",
            "_________________________________________________________________\n",
            "dense_7 (Dense)              (None, 256)               131328    \n",
            "_________________________________________________________________\n",
            "dropout_6 (Dropout)          (None, 256)               0         \n",
            "_________________________________________________________________\n",
            "dense_8 (Dense)              (None, 10)                2570      \n",
            "=================================================================\n",
            "Total params: 14,848,586\n",
            "Trainable params: 14,848,586\n",
            "Non-trainable params: 0\n",
            "_________________________________________________________________\n"
          ],
          "name": "stdout"
        }
      ]
    },
    {
      "metadata": {
        "id": "UhdyIYlCC_jV",
        "colab_type": "code",
        "colab": {
          "base_uri": "https://localhost:8080/",
          "height": 204
        },
        "outputId": "7ce854ee-60ed-4b60-c755-d8b00b0ae564"
      },
      "cell_type": "code",
      "source": [
        "\n",
        "conv_base.trainable = False\n",
        "model.compile(loss='categorical_crossentropy',\n",
        "              optimizer='adam',\n",
        "              metrics=['accuracy'])\n",
        "\n",
        "model.fit(x_train, y_train,\n",
        "          epochs=5,\n",
        "          batch_size=256)"
      ],
      "execution_count": 21,
      "outputs": [
        {
          "output_type": "stream",
          "text": [
            "Epoch 1/5\n",
            "60000/60000 [==============================] - 660s 11ms/step - loss: 0.8278 - acc: 0.7224\n",
            "Epoch 2/5\n",
            "60000/60000 [==============================] - 659s 11ms/step - loss: 0.6046 - acc: 0.7959\n",
            "Epoch 3/5\n",
            "60000/60000 [==============================] - 659s 11ms/step - loss: 0.4845 - acc: 0.8259\n",
            "Epoch 4/5\n",
            "60000/60000 [==============================] - 659s 11ms/step - loss: 0.4257 - acc: 0.8419\n",
            "Epoch 5/5\n",
            "60000/60000 [==============================] - 658s 11ms/step - loss: 0.3937 - acc: 0.8515\n"
          ],
          "name": "stdout"
        },
        {
          "output_type": "execute_result",
          "data": {
            "text/plain": [
              "<keras.callbacks.History at 0x7fbf3a5ebc18>"
            ]
          },
          "metadata": {
            "tags": []
          },
          "execution_count": 21
        }
      ]
    },
    {
      "metadata": {
        "id": "Y2FL0H7yEC8B",
        "colab_type": "code",
        "colab": {
          "base_uri": "https://localhost:8080/",
          "height": 51
        },
        "outputId": "6af61e71-ed4a-4a98-e158-ca06d2dee2d7"
      },
      "cell_type": "code",
      "source": [
        "score = model.evaluate(x_test, y_test, verbose=1)\n",
        "print(score)"
      ],
      "execution_count": 23,
      "outputs": [
        {
          "output_type": "stream",
          "text": [
            "10000/10000 [==============================] - 112s 11ms/step\n",
            "[0.44513814458847045, 0.8469]\n"
          ],
          "name": "stdout"
        }
      ]
    },
    {
      "metadata": {
        "id": "CwCQbWfRMDcW",
        "colab_type": "text"
      },
      "cell_type": "markdown",
      "source": [
        "#### As the results showed above, the model has good performances on training set and test set. It has accuracy of 0.8515 on the training set and accuracy of 0.8469 on the test set.\n",
        "\n"
      ]
    },
    {
      "metadata": {
        "id": "TF67tjVvMUJa",
        "colab_type": "text"
      },
      "cell_type": "markdown",
      "source": [
        "## 3. Text Classification\n",
        "\n",
        "### 3.1 RNN"
      ]
    },
    {
      "metadata": {
        "id": "8QCWmyIDMCgD",
        "colab_type": "code",
        "colab": {
          "base_uri": "https://localhost:8080/",
          "height": 34
        },
        "outputId": "1d349e92-a73a-4559-b170-224aee6cfec6"
      },
      "cell_type": "code",
      "source": [
        "import requests\n",
        "from sklearn.model_selection import train_test_split\n",
        "\n",
        "benign = requests.get(\"https://s3.amazonaws.com/anly-590/url-classification/benign-urls.txt\").text.split(\"\\n\")\n",
        "malicious = requests.get(\"https://s3.amazonaws.com/anly-590/url-classification/malicious-urls.txt\").text.split(\"\\n\")\n",
        "benign = [x for x in benign if x[0] != \"#\"]    \n",
        "\n",
        "total = benign + malicious\n",
        "labels = [0]*len(benign)+[1]*len(malicious)\n",
        "chars = sorted(list(set(''.join(total))))\n",
        "print('total chars:', len(chars))\n",
        "char_indices = dict((c, i) for i, c in enumerate(chars))\n",
        "indices_char = dict((i, c) for i, c in enumerate(chars))\n",
        "maxlen = max(len(i) for i in total)"
      ],
      "execution_count": 33,
      "outputs": [
        {
          "output_type": "stream",
          "text": [
            "total chars: 67\n"
          ],
          "name": "stdout"
        }
      ]
    },
    {
      "metadata": {
        "id": "h9HVI8CcZ0Xi",
        "colab_type": "code",
        "colab": {}
      },
      "cell_type": "code",
      "source": [
        "X = np.zeros((len(total), maxlen, len(chars)), dtype=np.uint8)\n",
        "for i, seq in enumerate(total):\n",
        "    for t, char in enumerate(seq):\n",
        "        X[i, t, char_indices[char]] = 1\n",
        "\n",
        "x_train, x_test, y_train, y_test = train_test_split(X, labels, test_size=0.2, random_state=42)"
      ],
      "execution_count": 0,
      "outputs": []
    },
    {
      "metadata": {
        "id": "dzJuk9NrZ5bs",
        "colab_type": "code",
        "colab": {
          "base_uri": "https://localhost:8080/",
          "height": 391
        },
        "outputId": "2e167d32-5349-42c0-fd29-a6e094c6d12f"
      },
      "cell_type": "code",
      "source": [
        "model = Sequential()\n",
        "model.add(LSTM(128, input_shape=(maxlen, len(chars))))\n",
        "model.add(Dropout(0.25))\n",
        "model.add(Dense(1, activation='sigmoid'))\n",
        "\n",
        "model.compile(loss='binary_crossentropy', \n",
        "              optimizer='rmsprop', \n",
        "              metrics=['accuracy'])\n",
        "\n",
        "model.fit(x_train, y_train,\n",
        "          batch_size=128,\n",
        "          epochs=10,\n",
        "          verbose=1,\n",
        "          validation_data=(x_test, y_test))"
      ],
      "execution_count": 35,
      "outputs": [
        {
          "output_type": "stream",
          "text": [
            "Train on 53849 samples, validate on 13463 samples\n",
            "Epoch 1/10\n",
            "53849/53849 [==============================] - 108s 2ms/step - loss: 0.1023 - acc: 0.9802 - val_loss: 0.0949 - val_acc: 0.9808\n",
            "Epoch 2/10\n",
            "53849/53849 [==============================] - 107s 2ms/step - loss: 0.0967 - acc: 0.9807 - val_loss: 0.0950 - val_acc: 0.9808\n",
            "Epoch 3/10\n",
            "53849/53849 [==============================] - 108s 2ms/step - loss: 0.0965 - acc: 0.9807 - val_loss: 0.0948 - val_acc: 0.9808\n",
            "Epoch 4/10\n",
            "53849/53849 [==============================] - 107s 2ms/step - loss: 0.0964 - acc: 0.9807 - val_loss: 0.0948 - val_acc: 0.9808\n",
            "Epoch 5/10\n",
            "53849/53849 [==============================] - 107s 2ms/step - loss: 0.0963 - acc: 0.9807 - val_loss: 0.0954 - val_acc: 0.9808\n",
            "Epoch 6/10\n",
            "53849/53849 [==============================] - 107s 2ms/step - loss: 0.0961 - acc: 0.9807 - val_loss: 0.0975 - val_acc: 0.9808\n",
            "Epoch 7/10\n",
            "53849/53849 [==============================] - 105s 2ms/step - loss: 0.0962 - acc: 0.9807 - val_loss: 0.0949 - val_acc: 0.9808\n",
            "Epoch 8/10\n",
            "53849/53849 [==============================] - 106s 2ms/step - loss: 0.0964 - acc: 0.9807 - val_loss: 0.0948 - val_acc: 0.9808\n",
            "Epoch 9/10\n",
            "53849/53849 [==============================] - 106s 2ms/step - loss: 0.0964 - acc: 0.9807 - val_loss: 0.0954 - val_acc: 0.9808\n",
            "Epoch 10/10\n",
            "53849/53849 [==============================] - 103s 2ms/step - loss: 0.0962 - acc: 0.9807 - val_loss: 0.0954 - val_acc: 0.9808\n"
          ],
          "name": "stdout"
        },
        {
          "output_type": "execute_result",
          "data": {
            "text/plain": [
              "<keras.callbacks.History at 0x7f9c7162beb8>"
            ]
          },
          "metadata": {
            "tags": []
          },
          "execution_count": 35
        }
      ]
    },
    {
      "metadata": {
        "id": "1koJHZ8FgW4t",
        "colab_type": "text"
      },
      "cell_type": "markdown",
      "source": [
        "#### As the results showed above, the LSTM type of RNN has really good performance on training set and test set, with training set, it has accuracy of 0.9807. With test set, it has accuracy of 0.9808, which is really good!"
      ]
    },
    {
      "metadata": {
        "id": "foiNOyd-f0k2",
        "colab_type": "text"
      },
      "cell_type": "markdown",
      "source": [
        "### 3.2 CNN"
      ]
    },
    {
      "metadata": {
        "id": "3Ub41bddf3-5",
        "colab_type": "code",
        "colab": {
          "base_uri": "https://localhost:8080/",
          "height": 374
        },
        "outputId": "cb03e31d-4d34-4d4f-8f3f-457d42159a4e"
      },
      "cell_type": "code",
      "source": [
        "model2 = Sequential()\n",
        "model2.add(Conv1D(filters=32, kernel_size=4, padding='same', activation='relu', input_shape=(maxlen, len(chars))))\n",
        "model2.add(Conv1D(filters=64, kernel_size=4, padding='same', activation='relu', input_shape=(maxlen, len(chars))))\n",
        "model2.add(MaxPooling1D(pool_size=4))\n",
        "model2.add(Flatten())\n",
        "model2.add(Dense(1, activation='sigmoid'))\n",
        "\n",
        "model2.compile(loss='binary_crossentropy',\n",
        "              optimizer=RMSprop(),\n",
        "              metrics=['accuracy'])\n",
        "\n",
        "model2.fit(x_train, y_train,\n",
        "                   epochs = 10,\n",
        "                   batch_size = 64)"
      ],
      "execution_count": 36,
      "outputs": [
        {
          "output_type": "stream",
          "text": [
            "Epoch 1/10\n",
            "53849/53849 [==============================] - 21s 385us/step - loss: 0.0562 - acc: 0.9813\n",
            "Epoch 2/10\n",
            "53849/53849 [==============================] - 21s 382us/step - loss: 0.0287 - acc: 0.9874\n",
            "Epoch 3/10\n",
            "53849/53849 [==============================] - 20s 374us/step - loss: 0.0247 - acc: 0.9887\n",
            "Epoch 4/10\n",
            "53849/53849 [==============================] - 20s 371us/step - loss: 0.0249 - acc: 0.9897\n",
            "Epoch 5/10\n",
            "53849/53849 [==============================] - 20s 364us/step - loss: 0.0280 - acc: 0.9898\n",
            "Epoch 6/10\n",
            "53849/53849 [==============================] - 19s 361us/step - loss: 0.0368 - acc: 0.9888\n",
            "Epoch 7/10\n",
            "53849/53849 [==============================] - 19s 362us/step - loss: 0.0519 - acc: 0.9878\n",
            "Epoch 8/10\n",
            "53849/53849 [==============================] - 19s 361us/step - loss: 0.0795 - acc: 0.9859\n",
            "Epoch 9/10\n",
            "53849/53849 [==============================] - 20s 365us/step - loss: 0.1336 - acc: 0.9844\n",
            "Epoch 10/10\n",
            "53849/53849 [==============================] - 19s 352us/step - loss: 0.2760 - acc: 0.9813\n"
          ],
          "name": "stdout"
        },
        {
          "output_type": "execute_result",
          "data": {
            "text/plain": [
              "<keras.callbacks.History at 0x7f9c6ec7be80>"
            ]
          },
          "metadata": {
            "tags": []
          },
          "execution_count": 36
        }
      ]
    },
    {
      "metadata": {
        "id": "1xS-fjQkiMB3",
        "colab_type": "code",
        "colab": {
          "base_uri": "https://localhost:8080/",
          "height": 51
        },
        "outputId": "cfc9bcce-105e-4182-f7cf-68308de7045e"
      },
      "cell_type": "code",
      "source": [
        "score = model2.evaluate(x_test, y_test, verbose=1)\n",
        "print(score)"
      ],
      "execution_count": 37,
      "outputs": [
        {
          "output_type": "stream",
          "text": [
            "13463/13463 [==============================] - 2s 161us/step\n",
            "[0.3088813500774362, 0.980836366337369]\n"
          ],
          "name": "stdout"
        }
      ]
    },
    {
      "metadata": {
        "id": "ybX-xNoLiPNR",
        "colab_type": "text"
      },
      "cell_type": "markdown",
      "source": [
        "#### As the results showed above, the model has good performances on training set and test set. It has accuracy of 0.9813 on the training set and accuracy of 0.9908 on the test set. Which means the model is very good!"
      ]
    },
    {
      "metadata": {
        "id": "Nz4z4FAniTS6",
        "colab_type": "text"
      },
      "cell_type": "markdown",
      "source": [
        "### 3.3"
      ]
    },
    {
      "metadata": {
        "id": "R77OvSA3iVkb",
        "colab_type": "code",
        "colab": {
          "base_uri": "https://localhost:8080/",
          "height": 376
        },
        "outputId": "22af47f7-f38f-4a87-cd81-e527dcc6f707"
      },
      "cell_type": "code",
      "source": [
        "from sklearn.metrics import roc_curve\n",
        "from sklearn.metrics import auc\n",
        "\n",
        "plt.figure(1)\n",
        "predictedrnntrain = model.predict(x_train)\n",
        "fpr_train_r, tpr_train_r, thresholds_train_r = roc_curve(y_train, predictedrnntrain)\n",
        "auc_train_r = auc(fpr_train_r, tpr_train_r)\n",
        "\n",
        "\n",
        "predictedrnntest = model.predict(x_test)\n",
        "fpr_test_r, tpr_test_r, thresholds_test_r  = roc_curve(y_test, predictedrnntest)\n",
        "auc_test_r = auc(fpr_test_r, tpr_test_r)\n",
        "\n",
        "\n",
        "predictedcnntrain = model2.predict(x_train)\n",
        "fpr_train_c, tpr_train_c, thresholds_train_c = roc_curve(y_train, predictedcnntrain)\n",
        "auc_train_c = auc(fpr_train_c, tpr_train_c)\n",
        "\n",
        "\n",
        "predictedcnntest = model2.predict(x_test)\n",
        "fpr_test_c, tpr_test_c, thresholds_test_c = roc_curve(y_test, predictedcnntest)\n",
        "auc_test_c = auc(fpr_test_c, tpr_test_c)\n",
        "\n",
        "plt.plot(fpr_train_r, tpr_train_r, label=\"RNN_training %0.3f\" % auc_train_r)\n",
        "plt.plot(fpr_test_r, tpr_test_r, label=\"RNN_test %0.3f\" % auc_test_r)\n",
        "plt.plot(fpr_train_c, tpr_train_c, label= \"CNN_training %0.3f\" % auc_train_c)\n",
        "plt.plot(fpr_test_c, tpr_test_c, label= \"CNN_test %0.3f\" % auc_test_c)\n",
        "\n",
        "plt.xlabel('False positive rate')\n",
        "plt.ylabel('True positive rate')\n",
        "plt.title('ROC curve')\n",
        "plt.show()"
      ],
      "execution_count": 38,
      "outputs": [
        {
          "output_type": "display_data",
          "data": {
            "image/png": "[encoded data removed]",
            "text/plain": [
              "<matplotlib.figure.Figure at 0x7f9c6e954dd8>"
            ]
          },
          "metadata": {
            "tags": []
          }
        }
      ]
    },
    {
      "metadata": {
        "id": "iyO_IanGtG7I",
        "colab_type": "text"
      },
      "cell_type": "markdown",
      "source": [
        "#### From the ROC curve, it can tell that CNN is better than RNN. However, both models performed very well in the results showed above, where CNN has around 0.98 accuracy on both training and test sets, and RNN has around 0.98 accuracy on training and test sets. However, both models performed very well, it hard to tell which one is really better in this situation. Maybe with a better balanced data, we can tell which one fits more better."
      ]
    }
  ]
}